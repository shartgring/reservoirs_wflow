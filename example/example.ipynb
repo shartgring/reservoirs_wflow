{
 "cells": [
  {
   "cell_type": "code",
   "execution_count": null,
   "metadata": {},
   "outputs": [],
   "source": [
    "from reservoirs_wflow import WflowReservoir\n",
    "import matplotlib.pyplot as plt\n",
    "import pandas as pd\n",
    "import numpy as np"
   ]
  },
  {
   "cell_type": "code",
   "execution_count": null,
   "metadata": {},
   "outputs": [],
   "source": [
    "### As an example, the Olef-reservoir in Germany is used\n",
    "\n",
    "df = pd.read_csv('Olef.csv', index_col='time', parse_dates=True)\n",
    "fractions = np.loadtxt('fractions.csv')\n",
    "\n",
    "info = {\n",
    "        \"inflow\"          :  df[\"Qin\"],\n",
    "        \"demand\"          : 0.3,\n",
    "        \"maxrelease\"      : 4.5, \n",
    "        \"maxvolume\"       : 19200000.0,\n",
    "        \"initial_storage\" : 12000000.0,\n",
    "        \"targetminfrac\"   : fractions[0],\n",
    "        \"targetfullfrac\"  : fractions[1],\n",
    "        \"csv_path\"        : 'sq.csv'\n",
    "}"
   ]
  },
  {
   "cell_type": "code",
   "execution_count": null,
   "metadata": {},
   "outputs": [],
   "source": [
    "### Reservoir operated by the simple reservoir module from Wflow\n",
    "\n",
    "olef_simple = WflowReservoir()\n",
    "olef_simple.setup_simple(info[\"maxvolume\"], info[\"maxrelease\"], info[\"demand\"], info[\"targetminfrac\"], info[\"targetfullfrac\"])\n",
    "olef_simple.run(info[\"inflow\"], info[\"initial_storage\"])"
   ]
  },
  {
   "cell_type": "code",
   "execution_count": null,
   "metadata": {},
   "outputs": [],
   "source": [
    "### Reservoir operated using a SQ-table\n",
    "\n",
    "olef_sqtable = WflowReservoir()\n",
    "olef_sqtable.setup_sqtable(info[\"maxvolume\"], info[\"csv_path\"])\n",
    "olef_sqtable.run(info[\"inflow\"], info[\"initial_storage\"])"
   ]
  },
  {
   "cell_type": "code",
   "execution_count": null,
   "metadata": {},
   "outputs": [],
   "source": [
    "### Reservoir operated using a custom function\n",
    "### Note that a custom function MUST contain the following arguments:\n",
    "### 1) time, 2) inflow, 3) storage, 4) timestepsecs, 5) maxvolume\n",
    "\n",
    "def custom_function(time, inflow, storage, timestepsecs, maxvolume):\n",
    "    outflow = 1.5 if time.dayofyear < 100 else 0.5\n",
    "    storage = storage + inflow*timestepsecs - outflow*timestepsecs\n",
    "    overflow = 0 if storage < maxvolume else storage-maxvolume\n",
    "    return outflow + overflow/timestepsecs, min(storage, maxvolume)\n",
    "\n",
    "olef_custom = WflowReservoir()\n",
    "olef_custom.setup_custom(custom_function, info[\"maxvolume\"])\n",
    "olef_custom.run(info[\"inflow\"], info[\"initial_storage\"])"
   ]
  },
  {
   "cell_type": "code",
   "execution_count": null,
   "metadata": {},
   "outputs": [],
   "source": [
    "### An example of a custom function with incorrect argument use\n",
    "### which will results in an error\n",
    "\n",
    "def wrong_function(inflow, storage, maxvolume):\n",
    "    if storage > 0.5*maxvolume:\n",
    "        outflow = 1.2*inflow\n",
    "    else:\n",
    "        outflow = 0.5*inflow\n",
    "    return outflow, storage\n",
    "\n",
    "olef_wrong = WflowReservoir()\n",
    "olef_wrong.setup_custom(wrong_function, info[\"maxvolume\"])\n",
    "olef_wrong.run(info[\"inflow\"], info[\"initial_storage\"])"
   ]
  },
  {
   "cell_type": "code",
   "execution_count": null,
   "metadata": {},
   "outputs": [],
   "source": [
    "plt.figure(1, figsize=(10,6))\n",
    "plt.subplot(211)\n",
    "plt.plot(olef_simple.storage/1e6,'b')\n",
    "plt.plot(olef_sqtable.storage/1e6,'r')\n",
    "plt.plot(olef_custom.storage/1e6,'g')\n",
    "plt.plot(df[\"S\"]/1e6,'k--')\n",
    "plt.ylabel('Storage [Mm3]')\n",
    "plt.subplot(212)\n",
    "plt.plot(olef_simple.outflow,'b',label='simple module')\n",
    "plt.plot(olef_sqtable.outflow,'r',label='SQ table')\n",
    "plt.plot(olef_custom.outflow,'g',label='custom function')\n",
    "plt.plot(df[\"Qout\"],'k--',label='observations')\n",
    "plt.ylabel('Outflow [m3/s]')\n",
    "plt.legend()"
   ]
  }
 ],
 "metadata": {
  "kernelspec": {
   "display_name": "Wflow_Rur",
   "language": "python",
   "name": "python3"
  },
  "language_info": {
   "codemirror_mode": {
    "name": "ipython",
    "version": 3
   },
   "file_extension": ".py",
   "mimetype": "text/x-python",
   "name": "python",
   "nbconvert_exporter": "python",
   "pygments_lexer": "ipython3",
   "version": "3.10.8"
  },
  "orig_nbformat": 4,
  "vscode": {
   "interpreter": {
    "hash": "263a7d277699d0ad5f2159cd1dd0d9e9da0222ad9dc663f1d4769b95606a48a0"
   }
  }
 },
 "nbformat": 4,
 "nbformat_minor": 2
}
